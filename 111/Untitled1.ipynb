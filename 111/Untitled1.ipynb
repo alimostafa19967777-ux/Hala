{
 "cells": [
  {
   "cell_type": "markdown",
   "id": "80418544-506b-4c06-a092-3825adff95bd",
   "metadata": {},
   "source": [
    "import pandas as pd\n",
    "\n",
    "# Чтение локального файла\n",
    "df = pd.read_csv(\"processed_asthma.csv\")\n",
    "\n",
    "# Просмотр первых 5 строк\n",
    "df.head()\n"
   ]
  },
  {
   "cell_type": "markdown",
   "id": "73082910-e0e6-425c-ab30-18a64b53ac61",
   "metadata": {},
   "source": [
    "# Проверка структуры данных\n",
    "df.info()\n",
    "\n",
    "# Основная статистика для числовых столбцов\n",
    "df.describe()\n"
   ]
  },
  {
   "cell_type": "markdown",
   "id": "8861ac14-89c3-47bd-8150-2a3d9143373f",
   "metadata": {},
   "source": [
    "# Подсчет пропущенных значений\n",
    "missing = df.isnull().sum()\n",
    "\n",
    "# Процент пропусков\n",
    "missing_percent = (missing / len(df)) * 100\n",
    "\n",
    "# Создаем таблицу с результатами\n",
    "missing_df = pd.DataFrame({\n",
    "    'Пропущенные значения': missing,\n",
    "    'Процент %': missing_percent\n",
    "})\n",
    "\n",
    "missing_df\n"
   ]
  },
  {
   "cell_type": "markdown",
   "id": "59d67da6-2cd4-4d39-9381-b0b9eef43a4e",
   "metadata": {},
   "source": [
    "# Выбираем числовые столбцы\n",
    "numeric_cols = df.select_dtypes(include=['int64', 'float64']).columns\n",
    "\n",
    "# Расчет IQR для выявления выбросов\n",
    "Q1 = df[numeric_cols].quantile(0.25)\n",
    "Q3 = df[numeric_cols].quantile(0.75)\n",
    "IQR = Q3 - Q1\n",
    "\n",
    "# Подсчет выбросов для каждого числового столбца\n",
    "outliers = ((df[numeric_cols] < (Q1 - 1.5 * IQR)) | (df[numeric_cols] > (Q3 + 1.5 * IQR))).sum()\n",
    "outliers_percent = (outliers / len(df)) * 100\n",
    "\n",
    "outliers_df = pd.DataFrame({\n",
    "    'Выбросы': outliers,\n",
    "    'Процент %': outliers_percent\n",
    "})\n",
    "outliers_df\n"
   ]
  },
  {
   "cell_type": "markdown",
   "id": "ad480f1e-1a1b-4501-acef-c030449c46f6",
   "metadata": {},
   "source": [
    "# Создаем сводную таблицу с пропусками и выбросами\n",
    "metrics_df = pd.DataFrame({\n",
    "    'Пропущенные значения %': (df.isnull().sum() / len(df)) * 100,\n",
    "    'Выбросы %': ((df[numeric_cols] < (Q1 - 1.5*IQR)) | (df[numeric_cols] > (Q3 + 1.5*IQR))).sum() / len(df) * 100\n",
    "})\n",
    "\n",
    "# Для категориальных столбцов добавляем только пропуски\n",
    "for col in df.select_dtypes(include=['object']).columns:\n",
    "    if col not in metrics_df.index:\n",
    "        metrics_df.loc[col] = [df[col].isnull().sum() / len(df) * 100, 0]\n",
    "\n",
    "metrics_df = metrics_df.sort_index()\n",
    "metrics_df\n",
    "\n"
   ]
  },
  {
   "cell_type": "code",
   "execution_count": null,
   "id": "686f9250-79ff-432b-bf83-71d257d1fed6",
   "metadata": {},
   "outputs": [],
   "source": []
  }
 ],
 "metadata": {
  "kernelspec": {
   "display_name": "Python (my_env)",
   "language": "python",
   "name": "my_env"
  },
  "language_info": {
   "codemirror_mode": {
    "name": "ipython",
    "version": 3
   },
   "file_extension": ".py",
   "mimetype": "text/x-python",
   "name": "python",
   "nbconvert_exporter": "python",
   "pygments_lexer": "ipython3",
   "version": "3.10.18"
  }
 },
 "nbformat": 4,
 "nbformat_minor": 5
}
